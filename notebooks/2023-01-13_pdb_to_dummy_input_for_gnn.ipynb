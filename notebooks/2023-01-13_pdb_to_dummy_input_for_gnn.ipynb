{
 "cells": [
  {
   "cell_type": "code",
   "execution_count": null,
   "id": "de9e60ff",
   "metadata": {},
   "outputs": [],
   "source": [
    "from pathlib import Path\n",
    "\n",
    "import numpy as np\n",
    "import pandas as pd\n",
    "from biopandas.pdb import PandasPdb\n"
   ]
  },
  {
   "cell_type": "code",
   "execution_count": null,
   "id": "4589f6e7",
   "metadata": {},
   "outputs": [],
   "source": [
    "DUMMY_DATA_DIR = Path(\"../data/dummy_data\")\n",
    "DUMMY_REC_FILE = DUMMY_DATA_DIR.joinpath(\"rec.pdb\")\n",
    "DUMMY_MATHCING_SPHERES_FILE = DUMMY_DATA_DIR.joinpath(\"matching_spheres.sph\")\n"
   ]
  },
  {
   "cell_type": "code",
   "execution_count": null,
   "id": "a551eefa",
   "metadata": {},
   "outputs": [],
   "source": [
    "ppdb = PandasPdb().read_pdb(DUMMY_REC_FILE.as_posix())"
   ]
  },
  {
   "cell_type": "code",
   "execution_count": null,
   "id": "0f54ed79",
   "metadata": {},
   "outputs": [],
   "source": [
    "ppdb.df.keys()"
   ]
  },
  {
   "cell_type": "code",
   "execution_count": null,
   "id": "cf7b8f53",
   "metadata": {},
   "outputs": [],
   "source": [
    "ppdb.df[\"ATOM\"]"
   ]
  },
  {
   "cell_type": "code",
   "execution_count": null,
   "id": "822a5364",
   "metadata": {},
   "outputs": [],
   "source": [
    "from rdkit.Chem.rdmolops import GetAdjacencyMatrix\n",
    "\n",
    "GetAdjacencyMatrix(ppdb.df[\"ATOM\"])"
   ]
  },
  {
   "cell_type": "code",
   "execution_count": null,
   "id": "ef555132",
   "metadata": {},
   "outputs": [],
   "source": [
    "ppdb.df[\"ATOM\"].iloc[0]"
   ]
  },
  {
   "cell_type": "code",
   "execution_count": null,
   "id": "aa7f3744",
   "metadata": {},
   "outputs": [],
   "source": [
    "sorted(ppdb.df[\"ATOM\"].atom_name.unique())"
   ]
  },
  {
   "cell_type": "code",
   "execution_count": null,
   "id": "a2433136",
   "metadata": {},
   "outputs": [],
   "source": [
    "sorted(ppdb.df[\"ATOM\"].residue_name.unique())"
   ]
  },
  {
   "cell_type": "code",
   "execution_count": null,
   "id": "4d389ec7",
   "metadata": {},
   "outputs": [],
   "source": [
    "COLUMNS_TO_KEEP = [\n",
    "    \"atom_name\",\n",
    "    \"residue_name\",\n",
    "    \"x_coord\",\n",
    "    \"y_coord\",\n",
    "    \"z_coord\",\n",
    "    \"occupancy\",\n",
    "    \"b_factor\",\n",
    "    \"element_symbol\",\n",
    "]\n",
    "\n",
    "df = ppdb.df[\"ATOM\"].drop([col for col in ppdb.df[\"ATOM\"].columns if col not in COLUMNS_TO_KEEP], axis=1)\n",
    "\n",
    "df"
   ]
  },
  {
   "cell_type": "code",
   "execution_count": null,
   "id": "7c1de741",
   "metadata": {},
   "outputs": [],
   "source": [
    "def one_hot_encode_column(df, column):\n",
    "    df = df.copy()\n",
    "    for i, el in enumerate(sorted(df[column].unique())):\n",
    "        df[f\"{column}_{i+1}\"] = (df[column] == el).astype(float)\n",
    "    del df[column]\n",
    "    \n",
    "    return df"
   ]
  },
  {
   "cell_type": "code",
   "execution_count": null,
   "id": "7843e800",
   "metadata": {},
   "outputs": [],
   "source": [
    "COLUMNS_TO_ONE_HOT_ENCODE = [\n",
    "    \"atom_name\",\n",
    "    \"residue_name\",\n",
    "    \"element_symbol\",\n",
    "]\n",
    "\n",
    "for column in COLUMNS_TO_ONE_HOT_ENCODE:\n",
    "    df = one_hot_encode_column(df, column)\n",
    "\n",
    "df"
   ]
  },
  {
   "cell_type": "markdown",
   "id": "2f17e992",
   "metadata": {},
   "source": [
    "## Note: the other numerical columns should be normalized, but we will just do that later when we construct the real dataset. "
   ]
  }
 ],
 "metadata": {
  "kernelspec": {
   "display_name": "Python 3 (ipykernel)",
   "language": "python",
   "name": "python3"
  },
  "language_info": {
   "codemirror_mode": {
    "name": "ipython",
    "version": 3
   },
   "file_extension": ".py",
   "mimetype": "text/x-python",
   "name": "python",
   "nbconvert_exporter": "python",
   "pygments_lexer": "ipython3",
   "version": "3.10.0"
  }
 },
 "nbformat": 4,
 "nbformat_minor": 5
}
